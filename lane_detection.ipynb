{
  "nbformat": 4,
  "nbformat_minor": 0,
  "metadata": {
    "colab": {
      "provenance": []
    },
    "kernelspec": {
      "name": "python3",
      "display_name": "Python 3"
    }
  },
  "cells": [
    {
      "cell_type": "code",
      "metadata": {
        "id": "EP73rGlBIexM",
        "outputId": "35af4d03-2d43-40fa-f655-de28a488c19e",
        "colab": {
          "base_uri": "https://localhost:8080/"
        }
      },
      "source": [
        "!git clone https://github.com/Dt-Pham/Advanced-Lane-Lines.git\n",
        "%cd Advanced-Lane-Lines/"
      ],
      "execution_count": null,
      "outputs": [
        {
          "output_type": "stream",
          "text": [
            "Cloning into 'Advanced-Lane-Lines'...\n",
            "remote: Enumerating objects: 9, done.\u001b[K\n",
            "remote: Counting objects: 100% (9/9), done.\u001b[K\n",
            "remote: Compressing objects: 100% (9/9), done.\u001b[K\n",
            "remote: Total 104 (delta 4), reused 0 (delta 0), pack-reused 95\u001b[K\n",
            "Receiving objects: 100% (104/104), 95.77 MiB | 16.55 MiB/s, done.\n",
            "Resolving deltas: 100% (4/4), done.\n",
            "/content/Advanced-Lane-Lines\n"
          ],
          "name": "stdout"
        }
      ]
    },
    {
      "cell_type": "code",
      "metadata": {
        "id": "twcSHvJyKY19",
        "outputId": "8bba8f6c-503b-4656-8dcc-f6a04f360522",
        "colab": {
          "base_uri": "https://localhost:8080/"
        }
      },
      "source": [
        "import numpy as np\n",
        "import matplotlib.image as mpimg\n",
        "import cv2\n",
        "from docopt import docopt\n",
        "from IPython.display import HTML\n",
        "from IPython.core.display import Video\n",
        "from moviepy.editor import VideoFileClip\n",
        "from CameraCalibration import CameraCalibration\n",
        "from Thresholding import *\n",
        "from PerspectiveTransformation import *\n",
        "from LaneLines import *\n",
        "\n",
        "class FindLaneLines:\n",
        "    def __init__(self):\n",
        "        \"\"\" Init Application\"\"\"\n",
        "        self.calibration = CameraCalibration('camera_cal', 9, 6)\n",
        "        self.thresholding = Thresholding()\n",
        "        self.transform = PerspectiveTransformation()\n",
        "        self.lanelines = LaneLines()\n",
        "\n",
        "    def forward(self, img):\n",
        "        out_img = np.copy(img)\n",
        "        img = self.calibration.undistort(img)\n",
        "        img = self.transform.forward(img)\n",
        "        img = self.thresholding.forward(img)\n",
        "        img = self.lanelines.forward(img)\n",
        "        img = self.transform.backward(img)\n",
        "\n",
        "        out_img = cv2.addWeighted(out_img, 1, img, 0.6, 0)\n",
        "        out_img = self.lanelines.plot(out_img)\n",
        "        return out_img\n",
        "\n",
        "    def process_image(self, input_path, output_path):\n",
        "        img = mpimg.imread(input_path)\n",
        "        out_img = self.forward(img)\n",
        "        mpimg.imsave(output_path, out_img)\n",
        "\n",
        "    def process_video(self, input_path, output_path):\n",
        "        clip = VideoFileClip(input_path)\n",
        "        out_clip = clip.fl_image(self.forward)\n",
        "        out_clip.write_videofile(output_path, audio=False)\n",
        "\n",
        "def main():\n",
        "    findLaneLines = FindLaneLines()\n",
        "    findLaneLines.process_video(\"challenge_video.mp4\",\"output.mp4\")\n",
        "\n",
        "if __name__ == \"__main__\":\n",
        "    main()"
      ],
      "execution_count": null,
      "outputs": [
        {
          "output_type": "stream",
          "text": [
            "Imageio: 'ffmpeg-linux64-v3.3.1' was not found on your computer; downloading it now.\n",
            "Try 1. Download from https://github.com/imageio/imageio-binaries/raw/master/ffmpeg/ffmpeg-linux64-v3.3.1 (43.8 MB)\n",
            "Downloading: 8192/45929032 bytes (0.0%)\b\b\b\b\b\b\b\b\b\b\b\b\b\b\b\b\b\b\b\b\b\b\b\b\b\b1966080/45929032 bytes (4.3%)\b\b\b\b\b\b\b\b\b\b\b\b\b\b\b\b\b\b\b\b\b\b\b\b\b\b\b\b\b5120000/45929032 bytes (11.1%)\b\b\b\b\b\b\b\b\b\b\b\b\b\b\b\b\b\b\b\b\b\b\b\b\b\b\b\b\b\b8380416/45929032 bytes (18.2%)\b\b\b\b\b\b\b\b\b\b\b\b\b\b\b\b\b\b\b\b\b\b\b\b\b\b\b\b\b\b11091968/45929032 bytes (24.2%)\b\b\b\b\b\b\b\b\b\b\b\b\b\b\b\b\b\b\b\b\b\b\b\b\b\b\b\b\b\b\b13729792/45929032 bytes (29.9%)\b\b\b\b\b\b\b\b\b\b\b\b\b\b\b\b\b\b\b\b\b\b\b\b\b\b\b\b\b\b\b16261120/45929032 bytes (35.4%)\b\b\b\b\b\b\b\b\b\b\b\b\b\b\b\b\b\b\b\b\b\b\b\b\b\b\b\b\b\b\b19251200/45929032 bytes (41.9%)\b\b\b\b\b\b\b\b\b\b\b\b\b\b\b\b\b\b\b\b\b\b\b\b\b\b\b\b\b\b\b21946368/45929032 bytes (47.8%)\b\b\b\b\b\b\b\b\b\b\b\b\b\b\b\b\b\b\b\b\b\b\b\b\b\b\b\b\b\b\b24920064/45929032 bytes (54.3%)\b\b\b\b\b\b\b\b\b\b\b\b\b\b\b\b\b\b\b\b\b\b\b\b\b\b\b\b\b\b\b27967488/45929032 bytes (60.9%)\b\b\b\b\b\b\b\b\b\b\b\b\b\b\b\b\b\b\b\b\b\b\b\b\b\b\b\b\b\b\b30703616/45929032 bytes (66.9%)\b\b\b\b\b\b\b\b\b\b\b\b\b\b\b\b\b\b\b\b\b\b\b\b\b\b\b\b\b\b\b33718272/45929032 bytes (73.4%)\b\b\b\b\b\b\b\b\b\b\b\b\b\b\b\b\b\b\b\b\b\b\b\b\b\b\b\b\b\b\b36257792/45929032 bytes (78.9%)\b\b\b\b\b\b\b\b\b\b\b\b\b\b\b\b\b\b\b\b\b\b\b\b\b\b\b\b\b\b\b39124992/45929032 bytes (85.2%)\b\b\b\b\b\b\b\b\b\b\b\b\b\b\b\b\b\b\b\b\b\b\b\b\b\b\b\b\b\b\b42115072/45929032 bytes (91.7%)\b\b\b\b\b\b\b\b\b\b\b\b\b\b\b\b\b\b\b\b\b\b\b\b\b\b\b\b\b\b\b44900352/45929032 bytes (97.8%)\b\b\b\b\b\b\b\b\b\b\b\b\b\b\b\b\b\b\b\b\b\b\b\b\b\b\b\b\b\b\b45929032/45929032 bytes (100.0%)\n",
            "  Done\n",
            "File saved as /root/.imageio/ffmpeg/ffmpeg-linux64-v3.3.1.\n",
            "[MoviePy] >>>> Building video output.mp4\n",
            "[MoviePy] Writing video output.mp4\n"
          ],
          "name": "stdout"
        },
        {
          "output_type": "stream",
          "text": [
            "100%|██████████| 485/485 [01:18<00:00,  6.21it/s]\n"
          ],
          "name": "stderr"
        },
        {
          "output_type": "stream",
          "text": [
            "[MoviePy] Done.\n",
            "[MoviePy] >>>> Video ready: output.mp4 \n",
            "\n"
          ],
          "name": "stdout"
        }
      ]
    }
  ]
}